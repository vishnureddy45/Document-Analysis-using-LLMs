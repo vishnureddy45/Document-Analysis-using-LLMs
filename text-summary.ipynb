{
 "cells": [
  {
   "cell_type": "code",
   "execution_count": 2,
   "id": "5f57e405-2578-485a-82e0-3992b146415e",
   "metadata": {},
   "outputs": [
    {
     "name": "stderr",
     "output_type": "stream",
     "text": [
      "/Users/vishnureddy/anaconda3/lib/python3.10/site-packages/tqdm/auto.py:22: TqdmWarning: IProgress not found. Please update jupyter and ipywidgets. See https://ipywidgets.readthedocs.io/en/stable/user_install.html\n",
      "  from .autonotebook import tqdm as notebook_tqdm\n"
     ]
    }
   ],
   "source": [
    "# Import required libraries\n",
    "from transformers import T5Tokenizer, T5ForConditionalGeneration"
   ]
  },
  {
   "cell_type": "code",
   "execution_count": 3,
   "id": "f4ee4805-d2a7-4826-9276-7c60bdb55ef8",
   "metadata": {},
   "outputs": [
    {
     "name": "stderr",
     "output_type": "stream",
     "text": [
      "You are using the default legacy behaviour of the <class 'transformers.models.t5.tokenization_t5.T5Tokenizer'>. This is expected, and simply means that the `legacy` (previous) behavior will be used so nothing changes for you. If you want to use the new behaviour, set `legacy=False`. This should only be set if you understand what it means, and thoroughly read the reason why this was added as explained in https://github.com/huggingface/transformers/pull/24565\n"
     ]
    }
   ],
   "source": [
    "# Load the pre-trained model and tokenizer\n",
    "model_name = \"t5-small\"  # Change to t5-base or t5-large as needed\n",
    "tokenizer = T5Tokenizer.from_pretrained(model_name)\n",
    "model = T5ForConditionalGeneration.from_pretrained(model_name)"
   ]
  },
  {
   "cell_type": "code",
   "execution_count": 4,
   "id": "f54ec109-29d2-44d1-8f28-f77f5da080e4",
   "metadata": {},
   "outputs": [
    {
     "name": "stdin",
     "output_type": "stream",
     "text": [
      "Enter the text you want to summarize:\n",
      " A consignment of red sandalwood arrives at the Yokohama port in Japan, where workers are shocked to find Pushpa hidden inside one of the containers. He attacks them, demanding payment for the load but is shot and falls into the sea, triggering a flashback.  After humiliating SP Bhanwar Singh Shekhawat,[a] Pushpa rises to power as a respected smuggler, while Shekhawat goes into hiding. Shekhawat secretly masquerades as a laborer and intercepts a massive sandalwood consignment. Meanwhile, Pushpa meets the Chief Minister of Andhra Pradesh Narasimha Reddy, but is denied a photograph with him to avoid political backlash. Offended, Pushpa vows to topple the government by making Siddappa the Chief Minister, raising ₹500 crores through sandalwood smuggling.  Pushpa strikes a deal with Central Minister Kogatam Veera Pratap Reddy and meets international buyer Hameed in the Maldives to sell 2,000 tons of sandalwood for ₹5,000 crores. Several smugglers join Pushpa’s syndicate, but Mangalam Srinu and Dakshayani, along with Shekhawat, plot to sabotage the operation. Shekhawat kills one of the syndicate members, causing fear among the others, who urge Pushpa to relinquish his leadership to Srinu.  Pushpa, however, manages to use his tricks and ways to smuggle the sandalwood to Chennai until its final destination in Sri Lanka. During the transport, Shekhawat catches up and shoots down all the trucks, forcing the drivers to escape. The media lauds Shekhawat for the raid, but Srinu realizes the load was not sandalwood but Sandra, a wood that resembles red sandalwood but holds no market value. Pushpa had instead created bullock carts with the actual load and transported it to Chennai, indirectly aided by Shekhawat himself.  Shekhawat eventually obtains permission to track the consignment to Rameswaram but fails to capture it before it crosses the Indian-Sri Lankan border. Furious, he burns the storage site, seemingly killing himself in the blaze. Meanwhile, Srivalli discovers she is pregnant, and Pushpa celebrates. However, tragedy strikes when his niece, Kaveri, is assaulted during a festival and later kidnapped by Bugga Reddy, the nephew of Veera Pratap Reddy. Pushpa rescues her, killing Bugga and his gang, along with Subba Reddy, Bugga's father and Pratap Reddy's younger brother. He reconciles with his estranged family, celebrating Kaveri’s wedding, only for a mysterious figure to detonate a bomb at the wedding.\n"
     ]
    },
    {
     "name": "stdout",
     "output_type": "stream",
     "text": [
      "\n",
      "Summary:\n",
      "a consignment of red sandalwood arrives at the Yokohama port in japan. the consignment is shot and falls into the sea, triggering a flashback. Pushpa vows to topple the government by making Siddappa the chief minister.\n"
     ]
    }
   ],
   "source": [
    "# Prompt the user to enter the text to summarize\n",
    "input_text = input(\"Enter the text you want to summarize:\\n\")\n",
    "\n",
    "# Prepare the input with the 'summarize:' prefix\n",
    "input_text = \"summarize: \" + input_text\n",
    "\n",
    "# Tokenize the input text\n",
    "input_ids = tokenizer.encode(input_text, return_tensors=\"pt\", max_length=512, truncation=True)\n",
    "\n",
    "# Generate the summary\n",
    "summary_ids = model.generate(\n",
    "    input_ids,\n",
    "    max_length=150,  # Adjust as needed\n",
    "    num_beams=4,     # Higher value improves quality but increases computation\n",
    "    length_penalty=2.0,\n",
    "    early_stopping=True\n",
    ")\n",
    "\n",
    "# Decode and print the summary\n",
    "summary = tokenizer.decode(summary_ids[0], skip_special_tokens=True)\n",
    "print(\"\\nSummary:\")\n",
    "print(summary)"
   ]
  },
  {
   "cell_type": "code",
   "execution_count": null,
   "id": "bec414ac-9394-4441-bce5-ce9067e64928",
   "metadata": {},
   "outputs": [],
   "source": []
  }
 ],
 "metadata": {
  "kernelspec": {
   "display_name": "Python 3 (ipykernel)",
   "language": "python",
   "name": "python3"
  },
  "language_info": {
   "codemirror_mode": {
    "name": "ipython",
    "version": 3
   },
   "file_extension": ".py",
   "mimetype": "text/x-python",
   "name": "python",
   "nbconvert_exporter": "python",
   "pygments_lexer": "ipython3",
   "version": "3.10.9"
  }
 },
 "nbformat": 4,
 "nbformat_minor": 5
}
